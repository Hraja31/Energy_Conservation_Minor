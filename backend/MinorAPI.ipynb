{
 "cells": [
  {
   "cell_type": "code",
   "execution_count": 1,
   "id": "4549b074",
   "metadata": {},
   "outputs": [
    {
     "name": "stdout",
     "output_type": "stream",
     "text": [
      "Requirement already satisfied: fastapi in c:\\users\\harsh\\anaconda3\\lib\\site-packages (0.115.3)\n",
      "Requirement already satisfied: uvicorn in c:\\users\\harsh\\anaconda3\\lib\\site-packages (0.32.0)\n",
      "Requirement already satisfied: torch in c:\\users\\harsh\\anaconda3\\lib\\site-packages (2.5.0)\n",
      "Requirement already satisfied: torchvision in c:\\users\\harsh\\anaconda3\\lib\\site-packages (0.20.0)\n",
      "Requirement already satisfied: opencv-python in c:\\users\\harsh\\anaconda3\\lib\\site-packages (4.10.0.84)\n",
      "Requirement already satisfied: python-multipart in c:\\users\\harsh\\anaconda3\\lib\\site-packages (0.0.12)\n",
      "Requirement already satisfied: nest_asyncio in c:\\users\\harsh\\anaconda3\\lib\\site-packages (1.5.5)\n",
      "Requirement already satisfied: pydantic!=1.8,!=1.8.1,!=2.0.0,!=2.0.1,!=2.1.0,<3.0.0,>=1.7.4 in c:\\users\\harsh\\anaconda3\\lib\\site-packages (from fastapi) (2.9.2)\n",
      "Requirement already satisfied: starlette<0.42.0,>=0.40.0 in c:\\users\\harsh\\anaconda3\\lib\\site-packages (from fastapi) (0.41.0)\n",
      "Requirement already satisfied: typing-extensions>=4.8.0 in c:\\users\\harsh\\anaconda3\\lib\\site-packages (from fastapi) (4.12.2)\n",
      "Requirement already satisfied: click>=7.0 in c:\\users\\harsh\\anaconda3\\lib\\site-packages (from uvicorn) (8.0.4)\n",
      "Requirement already satisfied: h11>=0.8 in c:\\users\\harsh\\anaconda3\\lib\\site-packages (from uvicorn) (0.14.0)\n",
      "Requirement already satisfied: sympy==1.13.1 in c:\\users\\harsh\\anaconda3\\lib\\site-packages (from torch) (1.13.1)\n",
      "Requirement already satisfied: fsspec in c:\\users\\harsh\\anaconda3\\lib\\site-packages (from torch) (2022.7.1)\n",
      "Requirement already satisfied: jinja2 in c:\\users\\harsh\\anaconda3\\lib\\site-packages (from torch) (2.11.3)\n",
      "Requirement already satisfied: filelock in c:\\users\\harsh\\anaconda3\\lib\\site-packages (from torch) (3.6.0)\n",
      "Requirement already satisfied: networkx in c:\\users\\harsh\\anaconda3\\lib\\site-packages (from torch) (2.8.4)\n",
      "Requirement already satisfied: mpmath<1.4,>=1.1.0 in c:\\users\\harsh\\anaconda3\\lib\\site-packages (from sympy==1.13.1->torch) (1.2.1)\n",
      "Requirement already satisfied: pillow!=8.3.*,>=5.3.0 in c:\\users\\harsh\\anaconda3\\lib\\site-packages (from torchvision) (9.2.0)\n",
      "Requirement already satisfied: numpy in c:\\users\\harsh\\anaconda3\\lib\\site-packages (from torchvision) (1.24.4)\n",
      "Requirement already satisfied: colorama in c:\\users\\harsh\\anaconda3\\lib\\site-packages (from click>=7.0->uvicorn) (0.4.5)\n",
      "Requirement already satisfied: pydantic-core==2.23.4 in c:\\users\\harsh\\anaconda3\\lib\\site-packages (from pydantic!=1.8,!=1.8.1,!=2.0.0,!=2.0.1,!=2.1.0,<3.0.0,>=1.7.4->fastapi) (2.23.4)\n",
      "Requirement already satisfied: annotated-types>=0.6.0 in c:\\users\\harsh\\anaconda3\\lib\\site-packages (from pydantic!=1.8,!=1.8.1,!=2.0.0,!=2.0.1,!=2.1.0,<3.0.0,>=1.7.4->fastapi) (0.7.0)\n",
      "Requirement already satisfied: anyio<5,>=3.4.0 in c:\\users\\harsh\\anaconda3\\lib\\site-packages (from starlette<0.42.0,>=0.40.0->fastapi) (3.5.0)\n",
      "Requirement already satisfied: MarkupSafe>=0.23 in c:\\users\\harsh\\anaconda3\\lib\\site-packages (from jinja2->torch) (2.0.1)\n",
      "Requirement already satisfied: idna>=2.8 in c:\\users\\harsh\\anaconda3\\lib\\site-packages (from anyio<5,>=3.4.0->starlette<0.42.0,>=0.40.0->fastapi) (3.3)\n",
      "Requirement already satisfied: sniffio>=1.1 in c:\\users\\harsh\\anaconda3\\lib\\site-packages (from anyio<5,>=3.4.0->starlette<0.42.0,>=0.40.0->fastapi) (1.2.0)\n"
     ]
    }
   ],
   "source": [
    "!pip install fastapi uvicorn torch torchvision opencv-python python-multipart nest_asyncio"
   ]
  },
  {
   "cell_type": "code",
   "execution_count": 2,
   "id": "1da40b5d",
   "metadata": {},
   "outputs": [
    {
     "name": "stdout",
     "output_type": "stream",
     "text": [
      "Requirement already satisfied: torch in c:\\users\\harsh\\anaconda3\\lib\\site-packages (2.5.0)\n",
      "Requirement already satisfied: torchvision in c:\\users\\harsh\\anaconda3\\lib\\site-packages (0.20.0)\n",
      "Requirement already satisfied: torchaudio in c:\\users\\harsh\\anaconda3\\lib\\site-packages (2.5.0)\n",
      "Requirement already satisfied: typing-extensions>=4.8.0 in c:\\users\\harsh\\anaconda3\\lib\\site-packages (from torch) (4.12.2)\n",
      "Requirement already satisfied: fsspec in c:\\users\\harsh\\anaconda3\\lib\\site-packages (from torch) (2022.7.1)\n",
      "Requirement already satisfied: jinja2 in c:\\users\\harsh\\anaconda3\\lib\\site-packages (from torch) (2.11.3)\n",
      "Requirement already satisfied: networkx in c:\\users\\harsh\\anaconda3\\lib\\site-packages (from torch) (2.8.4)\n",
      "Requirement already satisfied: filelock in c:\\users\\harsh\\anaconda3\\lib\\site-packages (from torch) (3.6.0)\n",
      "Requirement already satisfied: sympy==1.13.1 in c:\\users\\harsh\\anaconda3\\lib\\site-packages (from torch) (1.13.1)\n",
      "Requirement already satisfied: mpmath<1.4,>=1.1.0 in c:\\users\\harsh\\anaconda3\\lib\\site-packages (from sympy==1.13.1->torch) (1.2.1)\n",
      "Requirement already satisfied: pillow!=8.3.*,>=5.3.0 in c:\\users\\harsh\\anaconda3\\lib\\site-packages (from torchvision) (9.2.0)\n",
      "Requirement already satisfied: numpy in c:\\users\\harsh\\anaconda3\\lib\\site-packages (from torchvision) (1.24.4)\n",
      "Requirement already satisfied: MarkupSafe>=0.23 in c:\\users\\harsh\\anaconda3\\lib\\site-packages (from jinja2->torch) (2.0.1)\n"
     ]
    }
   ],
   "source": [
    "!pip install torch torchvision torchaudio"
   ]
  },
  {
   "cell_type": "code",
   "execution_count": null,
   "id": "bb8bc0b1",
   "metadata": {
    "collapsed": true
   },
   "outputs": [
    {
     "name": "stdout",
     "output_type": "stream",
     "text": [
      "WARNING  Python>=3.10 is required, but Python==3.9.13 is currently installed \n"
     ]
    },
    {
     "name": "stderr",
     "output_type": "stream",
     "text": [
      "INFO:     Started server process [11576]\n",
      "INFO:     Waiting for application startup.\n",
      "INFO:     Application startup complete.\n",
      "INFO:     Uvicorn running on http://0.0.0.0:7000 (Press CTRL+C to quit)\n"
     ]
    }
   ],
   "source": [
    "import nest_asyncio\n",
    "from fastapi import FastAPI, File, UploadFile\n",
    "from fastapi.responses import JSONResponse\n",
    "from ultralytics import YOLO\n",
    "import cv2\n",
    "import numpy as np\n",
    "import uvicorn\n",
    "from pydantic import BaseModel\n",
    "\n",
    "from fastapi import FastAPI\n",
    "from fastapi.middleware.cors import CORSMiddleware\n",
    "\n",
    "app = FastAPI()\n",
    "\n",
    "app.add_middleware(\n",
    "    CORSMiddleware,\n",
    "    allow_origins=[\"http://localhost:3000\"],\n",
    "    allow_credentials=True,\n",
    "    allow_methods=[\"GET\", \"POST\", \"PUT\", \"DELETE\"],\n",
    "    allow_headers=[\"*\"],\n",
    "    expose_headers=[\"*\"],\n",
    ")\n",
    "\n",
    "# Allow nested asyncio\n",
    "nest_asyncio.apply()\n",
    "\n",
    "# Load your YOLOv8 model\n",
    "model = YOLO('best(1).pt')  # Adjust the path to your model\n",
    "\n",
    "# Simple database of appliance wattages\n",
    "appliance_wattages = {\n",
    "    \"fan\": 53,\n",
    "    \"fridge\": 212,\n",
    "    \"air conditioner\": 3450,\n",
    "    \"washing machine\": 500,\n",
    "    \"tubelight\": 20,\n",
    "    \"oven\": 2500,\n",
    "    \n",
    "    # Add more appliances as needed\n",
    "}\n",
    "\n",
    "class ApplianceInfo(BaseModel):\n",
    "    type: str\n",
    "    wattage: int\n",
    "\n",
    "@app.post(\"/predict/\")\n",
    "async def predict(file: UploadFile = File(...)):\n",
    "    try:\n",
    "        # Read the image file\n",
    "        contents = await file.read()\n",
    "        nparr = np.frombuffer(contents, np.uint8)\n",
    "        img = cv2.imdecode(nparr, cv2.IMREAD_COLOR)\n",
    "\n",
    "        # Perform inference\n",
    "        results = model(img)\n",
    "\n",
    "        # Debug: Print the results\n",
    "        print(\"Results:\", results)\n",
    "\n",
    "        # Process results\n",
    "        max_confidence = 0\n",
    "        best_class_name = None\n",
    "\n",
    "        for result in results:\n",
    "            # Check if boxes are present\n",
    "            if result.boxes is not None:\n",
    "                boxes = result.boxes.xyxy.numpy()  # Get bounding boxes\n",
    "                confidences = result.boxes.conf.numpy()  # Get confidences\n",
    "                classes = result.boxes.cls.numpy()  # Get class indices\n",
    "\n",
    "                for conf, cls in zip(confidences, classes):\n",
    "                    if conf > max_confidence:  # Update if this confidence is higher\n",
    "                        max_confidence = conf\n",
    "                        best_class_name = model.names[int(cls)]\n",
    "\n",
    "        # Return the best class name and its wattage\n",
    "        if best_class_name is not None:\n",
    "            # Normalize the class name to lower case and remove extra spaces\n",
    "            normalized_class_name = best_class_name.lower().strip()\n",
    "            wattage = appliance_wattages.get(normalized_class_name, 0)\n",
    "            return JSONResponse(content={\"type\": best_class_name, \"wattage\": wattage})\n",
    "\n",
    "        return JSONResponse(content={\"message\": \"No objects detected.\"})\n",
    "\n",
    "    except Exception as e:\n",
    "        return JSONResponse(content={\"error\": str(e)}, status_code=500)\n",
    "\n",
    "@app.get(\"/appliance_info/{appliance_type}\")\n",
    "async def get_appliance_info(appliance_type: str):\n",
    "    # Normalize the input to lower case and strip any extra spaces\n",
    "    normalized_appliance_type = appliance_type.lower().strip()\n",
    "    wattage = appliance_wattages.get(normalized_appliance_type, 0)\n",
    "    return ApplianceInfo(type=appliance_type, wattage=wattage)\n",
    "\n",
    "if __name__ == \"__main__\":\n",
    "    uvicorn.run(app, host=\"0.0.0.0\", port=7000)\n"
   ]
  },
  {
   "cell_type": "code",
   "execution_count": null,
   "id": "8dd7989b",
   "metadata": {},
   "outputs": [],
   "source": []
  }
 ],
 "metadata": {
  "kernelspec": {
   "display_name": "Python 3 (ipykernel)",
   "language": "python",
   "name": "python3"
  },
  "language_info": {
   "codemirror_mode": {
    "name": "ipython",
    "version": 3
   },
   "file_extension": ".py",
   "mimetype": "text/x-python",
   "name": "python",
   "nbconvert_exporter": "python",
   "pygments_lexer": "ipython3",
   "version": "3.9.13"
  }
 },
 "nbformat": 4,
 "nbformat_minor": 5
}
